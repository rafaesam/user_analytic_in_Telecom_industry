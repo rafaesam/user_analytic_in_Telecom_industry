{
 "cells": [
  {
   "cell_type": "markdown",
   "id": "3b3f1e72",
   "metadata": {},
   "source": [
    "# Exploratory Data Analysis\n",
    "Start by importing Libraries"
   ]
  },
  {
   "cell_type": "code",
   "execution_count": 49,
   "id": "ec5c544b",
   "metadata": {},
   "outputs": [],
   "source": [
    "import pandas as pd\n",
    "import matplotlib.pyplot as plt\n",
    "import seaborn as sns\n",
    "from sklearn.decomposition import PCA\n",
    "pd.set_option('display.float_format', '{:.2f}'.format)\n",
    "data = pd.read_csv(\"cleaned_teleco_data.csv\")"
   ]
  },
  {
   "cell_type": "code",
   "execution_count": 51,
   "id": "c5ed4258",
   "metadata": {},
   "outputs": [
    {
     "ename": "ModuleNotFoundError",
     "evalue": "No module named 'data_information'",
     "output_type": "error",
     "traceback": [
      "\u001b[1;31m---------------------------------------------------------------------------\u001b[0m",
      "\u001b[1;31mModuleNotFoundError\u001b[0m                       Traceback (most recent call last)",
      "Input \u001b[1;32mIn [51]\u001b[0m, in \u001b[0;36m<cell line: 2>\u001b[1;34m()\u001b[0m\n\u001b[0;32m      1\u001b[0m \u001b[38;5;66;03m#from data_loader import load_df_from_csv\u001b[39;00m\n\u001b[1;32m----> 2\u001b[0m \u001b[38;5;28;01mfrom\u001b[39;00m \u001b[38;5;21;01mdata_information\u001b[39;00m \u001b[38;5;28;01mimport\u001b[39;00m DataInfo\n\u001b[0;32m      3\u001b[0m \u001b[38;5;28;01mfrom\u001b[39;00m \u001b[38;5;21;01mdata_cleaner\u001b[39;00m \u001b[38;5;28;01mimport\u001b[39;00m DataCleaner\n\u001b[0;32m      4\u001b[0m \u001b[38;5;28;01mimport\u001b[39;00m \u001b[38;5;21;01mgraph_utils\u001b[39;00m\n",
      "\u001b[1;31mModuleNotFoundError\u001b[0m: No module named 'data_information'"
     ]
    }
   ],
   "source": []
  },
  {
   "cell_type": "code",
   "execution_count": 35,
   "id": "1ca8bbde",
   "metadata": {},
   "outputs": [
    {
     "name": "stdout",
     "output_type": "stream",
     "text": [
      "<class 'pandas.core.frame.DataFrame'>\n",
      "RangeIndex: 17558 entries, 0 to 17557\n",
      "Data columns (total 56 columns):\n",
      " #   Column                                    Non-Null Count  Dtype  \n",
      "---  ------                                    --------------  -----  \n",
      " 0   Unnamed: 0                                17558 non-null  int64  \n",
      " 1   Bearer Id                                 17558 non-null  float64\n",
      " 2   Start                                     17558 non-null  object \n",
      " 3   Start ms                                  17558 non-null  float64\n",
      " 4   End                                       17558 non-null  object \n",
      " 5   End ms                                    17558 non-null  float64\n",
      " 6   Dur. (ms)                                 17558 non-null  float64\n",
      " 7   IMSI                                      17558 non-null  float64\n",
      " 8   MSISDN/Number                             17558 non-null  float64\n",
      " 9   IMEI                                      17558 non-null  float64\n",
      " 10  Last Location Name                        17558 non-null  object \n",
      " 11  Avg RTT DL (ms)                           17558 non-null  float64\n",
      " 12  Avg RTT UL (ms)                           17558 non-null  float64\n",
      " 13  Avg Bearer TP DL (kbps)                   17558 non-null  float64\n",
      " 14  Avg Bearer TP UL (kbps)                   17558 non-null  float64\n",
      " 15  TCP DL Retrans. Vol (Bytes)               17558 non-null  float64\n",
      " 16  TCP UL Retrans. Vol (Bytes)               17558 non-null  float64\n",
      " 17  DL TP < 50 Kbps (%)                       17558 non-null  float64\n",
      " 18  50 Kbps < DL TP < 250 Kbps (%)            17558 non-null  float64\n",
      " 19  250 Kbps < DL TP < 1 Mbps (%)             17558 non-null  float64\n",
      " 20  DL TP > 1 Mbps (%)                        17558 non-null  float64\n",
      " 21  UL TP < 10 Kbps (%)                       17558 non-null  float64\n",
      " 22  10 Kbps < UL TP < 50 Kbps (%)             17558 non-null  float64\n",
      " 23  50 Kbps < UL TP < 300 Kbps (%)            17558 non-null  float64\n",
      " 24  UL TP > 300 Kbps (%)                      17558 non-null  float64\n",
      " 25  HTTP DL (Bytes)                           17558 non-null  float64\n",
      " 26  HTTP UL (Bytes)                           17558 non-null  float64\n",
      " 27  Activity Duration DL (ms)                 17558 non-null  float64\n",
      " 28  Activity Duration UL (ms)                 17558 non-null  float64\n",
      " 29  Dur. (ms).1                               17558 non-null  float64\n",
      " 30  Handset Manufacturer                      17558 non-null  object \n",
      " 31  Handset Type                              17558 non-null  object \n",
      " 32  Nb of sec with 125000B < Vol DL           17558 non-null  float64\n",
      " 33  Nb of sec with 1250B < Vol UL < 6250B     17558 non-null  float64\n",
      " 34  Nb of sec with 31250B < Vol DL < 125000B  17558 non-null  float64\n",
      " 35  Nb of sec with 37500B < Vol UL            17558 non-null  float64\n",
      " 36  Nb of sec with 6250B < Vol DL < 31250B    17558 non-null  float64\n",
      " 37  Nb of sec with 6250B < Vol UL < 37500B    17558 non-null  float64\n",
      " 38  Nb of sec with Vol DL < 6250B             17558 non-null  float64\n",
      " 39  Nb of sec with Vol UL < 1250B             17558 non-null  float64\n",
      " 40  Social Media DL (Bytes)                   17558 non-null  float64\n",
      " 41  Social Media UL (Bytes)                   17558 non-null  float64\n",
      " 42  Google DL (Bytes)                         17558 non-null  float64\n",
      " 43  Google UL (Bytes)                         17558 non-null  float64\n",
      " 44  Email DL (Bytes)                          17558 non-null  float64\n",
      " 45  Email UL (Bytes)                          17558 non-null  float64\n",
      " 46  Youtube DL (Bytes)                        17558 non-null  float64\n",
      " 47  Youtube UL (Bytes)                        17558 non-null  float64\n",
      " 48  Netflix DL (Bytes)                        17558 non-null  float64\n",
      " 49  Netflix UL (Bytes)                        17558 non-null  float64\n",
      " 50  Gaming DL (Bytes)                         17558 non-null  float64\n",
      " 51  Gaming UL (Bytes)                         17558 non-null  float64\n",
      " 52  Other DL (Bytes)                          17558 non-null  float64\n",
      " 53  Other UL (Bytes)                          17558 non-null  float64\n",
      " 54  Total UL (Bytes)                          17558 non-null  float64\n",
      " 55  Total DL (Bytes)                          17558 non-null  float64\n",
      "dtypes: float64(50), int64(1), object(5)\n",
      "memory usage: 7.5+ MB\n"
     ]
    }
   ],
   "source": [
    "data.info()"
   ]
  },
  {
   "cell_type": "markdown",
   "id": "3002558c",
   "metadata": {},
   "source": [
    "Looking at the top 10 Handsets type used:"
   ]
  },
  {
   "cell_type": "code",
   "execution_count": 3,
   "id": "63919d1c",
   "metadata": {},
   "outputs": [
    {
     "data": {
      "text/plain": [
       "Huawei B528S-23A                8839\n",
       "Huawei E5180                     797\n",
       "Apple iPhone 7 (A1778)           523\n",
       "Apple iPhone Xr (A2105)          513\n",
       "Apple iPhone 6S (A1688)          507\n",
       "Apple iPhone 6 (A1586)           503\n",
       "undefined                        451\n",
       "Apple iPhone X (A1901)           429\n",
       "Apple iPhone 8 (A1905)           428\n",
       "Samsung Galaxy S8 (Sm-G950F)     387\n",
       "Name: Handset Type, dtype: int64"
      ]
     },
     "execution_count": 3,
     "metadata": {},
     "output_type": "execute_result"
    }
   ],
   "source": [
    "Top_10_Handset_type = data['Handset Type'].value_counts()\n",
    "Top_10_Handset_type[:10]"
   ]
  },
  {
   "cell_type": "markdown",
   "id": "e69de0fb",
   "metadata": {},
   "source": [
    "and the top 3 handsets manufacturer are:"
   ]
  },
  {
   "cell_type": "code",
   "execution_count": 4,
   "id": "24783269",
   "metadata": {},
   "outputs": [
    {
     "data": {
      "text/plain": [
       "Huawei     10434\n",
       "Apple       4362\n",
       "Samsung     1984\n",
       "Name: Handset Manufacturer, dtype: int64"
      ]
     },
     "execution_count": 4,
     "metadata": {},
     "output_type": "execute_result"
    }
   ],
   "source": [
    "top_3_Handset_Manufacturer = data['Handset Manufacturer'].value_counts()\n",
    "top_3_Handset_Manufacturer[:3]"
   ]
  },
  {
   "cell_type": "code",
   "execution_count": 5,
   "id": "97d84260",
   "metadata": {},
   "outputs": [
    {
     "data": {
      "text/plain": [
       "Apple iPhone 7 (A1778)     523\n",
       "Apple iPhone Xr (A2105)    513\n",
       "Apple iPhone 6S (A1688)    507\n",
       "Apple iPhone 6 (A1586)     503\n",
       "Apple iPhone X (A1901)     429\n",
       "Name: Handset Type, dtype: int64"
      ]
     },
     "execution_count": 5,
     "metadata": {},
     "output_type": "execute_result"
    }
   ],
   "source": [
    "#Top 5 handset type for Apple\n",
    "a = data.groupby(['Handset Manufacturer'])\n",
    "a.get_group('Apple')['Handset Type'].value_counts()[:5]"
   ]
  },
  {
   "cell_type": "code",
   "execution_count": 6,
   "id": "2ddc5f46",
   "metadata": {},
   "outputs": [
    {
     "data": {
      "text/plain": [
       "Samsung Galaxy S8 (Sm-G950F)         387\n",
       "Samsung Galaxy S9 Sm-G960F Ds        193\n",
       "Samsung Galaxy S7 (Sm-G930X)         177\n",
       "Samsung Galaxy S7 Edge (Sm-G935X)    131\n",
       "Samsung Galaxy S9 Plus (Sm-G965F)    114\n",
       "Name: Handset Type, dtype: int64"
      ]
     },
     "execution_count": 6,
     "metadata": {},
     "output_type": "execute_result"
    }
   ],
   "source": [
    "#Top 5 handset type for Samsung\n",
    "\n",
    "s = data.groupby(['Handset Manufacturer'])\n",
    "s.get_group('Samsung')['Handset Type'].value_counts()[:5]"
   ]
  },
  {
   "cell_type": "code",
   "execution_count": 7,
   "id": "d23529d8",
   "metadata": {},
   "outputs": [
    {
     "data": {
      "text/plain": [
       "Huawei B528S-23A                  8839\n",
       "Huawei E5180                       797\n",
       "Huawei P20                          97\n",
       "Huawei P20 Pro                      94\n",
       "Huawei P20 Lite Huawei Nova 3E      82\n",
       "Name: Handset Type, dtype: int64"
      ]
     },
     "execution_count": 7,
     "metadata": {},
     "output_type": "execute_result"
    }
   ],
   "source": [
    "#Top 5 handset type for Huawei\n",
    "\n",
    "h = data.groupby(['Handset Manufacturer'])\n",
    "h.get_group('Huawei')['Handset Type'].value_counts()[:5]"
   ]
  },
  {
   "cell_type": "code",
   "execution_count": 42,
   "id": "fa74144c",
   "metadata": {},
   "outputs": [
    {
     "data": {
      "text/plain": [
       "<bound method NDFrame.describe of 0       13114483557479700480.000\n",
       "1       13042425955912400896.000\n",
       "2       13042425943152599040.000\n",
       "3       13042425945401499648.000\n",
       "4       13042425960321800192.000\n",
       "                  ...           \n",
       "17553   13042425979327600640.000\n",
       "17554   13042425979328200704.000\n",
       "17555   13042425979328700416.000\n",
       "17556    7277825670196299776.000\n",
       "17557   13042425979329200128.000\n",
       "Name: Bearer Id, Length: 17558, dtype: float64>"
      ]
     },
     "execution_count": 42,
     "metadata": {},
     "output_type": "execute_result"
    }
   ],
   "source": [
    "data['Bearer Id'].describe"
   ]
  },
  {
   "cell_type": "code",
   "execution_count": 43,
   "id": "7ee490ba",
   "metadata": {},
   "outputs": [
    {
     "data": {
      "text/plain": [
       "count     17558.000\n",
       "mean      82129.500\n",
       "std       45057.470\n",
       "min        8125.000\n",
       "25%       74207.000\n",
       "50%       86399.000\n",
       "75%       86399.000\n",
       "max     1382408.000\n",
       "Name: Dur. (ms), dtype: float64"
      ]
     },
     "execution_count": 43,
     "metadata": {},
     "output_type": "execute_result"
    }
   ],
   "source": [
    "data['Dur. (ms)'].describe()"
   ]
  },
  {
   "cell_type": "code",
   "execution_count": 44,
   "id": "53449ed5",
   "metadata": {},
   "outputs": [
    {
     "data": {
      "text/plain": [
       "count       17558.000\n",
       "mean    454569505.258\n",
       "std     245659006.491\n",
       "min       7114041.000\n",
       "25%     239844153.000\n",
       "50%     454119248.000\n",
       "75%     667934116.250\n",
       "max     899212554.000\n",
       "Name: Total DL (Bytes), dtype: float64"
      ]
     },
     "execution_count": 44,
     "metadata": {},
     "output_type": "execute_result"
    }
   ],
   "source": [
    "data['Total DL (Bytes)'].describe()"
   ]
  },
  {
   "cell_type": "code",
   "execution_count": 8,
   "id": "d7af6fc7",
   "metadata": {},
   "outputs": [
    {
     "data": {
      "text/plain": [
       "<seaborn.axisgrid.FacetGrid at 0x2b94944abe0>"
      ]
     },
     "execution_count": 8,
     "metadata": {},
     "output_type": "execute_result"
    },
    {
     "data": {
      "image/png": "[encoded data removed]",
      "text/plain": [
       "<Figure size 360x360 with 1 Axes>"
      ]
     },
     "metadata": {
      "needs_background": "light"
     },
     "output_type": "display_data"
    }
   ],
   "source": [
    "#plot the histogram to see the distribution of the point data.\n",
    "sns.displot(data, x= \"Social Media DL (Bytes)\")"
   ]
  },
  {
   "cell_type": "code",
   "execution_count": 9,
   "id": "c1d3b430",
   "metadata": {},
   "outputs": [
    {
     "data": {
      "text/plain": [
       "<seaborn.axisgrid.FacetGrid at 0x2b949433eb0>"
      ]
     },
     "execution_count": 9,
     "metadata": {},
     "output_type": "execute_result"
    },
    {
     "data": {
      "image/png": "[encoded data removed]",
      "text/plain": [
       "<Figure size 360x360 with 1 Axes>"
      ]
     },
     "metadata": {
      "needs_background": "light"
     },
     "output_type": "display_data"
    }
   ],
   "source": [
    "#plot the histogram to see the distribution of the point data.\n",
    "sns.displot(data, x= \"Dur. (ms).1\")"
   ]
  },
  {
   "cell_type": "code",
   "execution_count": null,
   "id": "1b8aba98",
   "metadata": {},
   "outputs": [],
   "source": []
  }
 ],
 "metadata": {
  "kernelspec": {
   "display_name": "Python 3 (ipykernel)",
   "language": "python",
   "name": "python3"
  },
  "language_info": {
   "codemirror_mode": {
    "name": "ipython",
    "version": 3
   },
   "file_extension": ".py",
   "mimetype": "text/x-python",
   "name": "python",
   "nbconvert_exporter": "python",
   "pygments_lexer": "ipython3",
   "version": "3.9.6"
  }
 },
 "nbformat": 4,
 "nbformat_minor": 5
}
